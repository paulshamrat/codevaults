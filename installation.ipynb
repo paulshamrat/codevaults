{
 "cells": [
  {
   "cell_type": "code",
   "execution_count": null,
   "metadata": {},
   "outputs": [],
   "source": [
    "# NLP\n",
    "python -m pip install nltk==3.5\n",
    "python -m pip install numpy matplotlib\n",
    "\n",
    "# MDAnalysis\n",
    "pip install --upgrade MDAnalysis\n",
    "pip install --upgrade MDAnalysisTests\n",
    "pip install --upgrade MDAnalysisData\n",
    "\n",
    "# mdtraj, nglview, cython, pytraj, tsplot\n",
    "# gnuplot, prody\n",
    "pip install mdtraj\n",
    "pip install biopython\n",
    "pip install nglview\n",
    "pip install cython --upgrade"
   ]
  }
 ],
 "metadata": {
  "language_info": {
   "name": "python"
  },
  "orig_nbformat": 4
 },
 "nbformat": 4,
 "nbformat_minor": 2
}
