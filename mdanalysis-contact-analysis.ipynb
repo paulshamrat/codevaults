{
 "cells": [
  {
   "cell_type": "code",
   "execution_count": null,
   "metadata": {},
   "outputs": [],
   "source": [
    "# Import libraries\n",
    "import MDAnalysis as mda\n",
    "from MDAnalysis.tests.datafiles import PSF, DCD\n",
    "from MDAnalysis.analysis import contacts\n",
    "\n",
    "import numpy as np\n",
    "import pandas as pd\n",
    "import matplotlib.pyplot as plt\n",
    "%matplotlib inline\n",
    "\n",
    "# Loading Data\n",
    "u = mda.Universe(PSF, DCD)\n",
    "\n",
    "# Defining the groups for contact analysis\n",
    "sel_basic = \"(resname ARG LYS) and (name NH* NZ)\"\n",
    "sel_acidic = \"(resname ASP GLU) and (name OE* OD*)\"\n",
    "acidic = u.select_atoms(sel_acidic)\n",
    "basic = u.select_atoms(sel_basic)\n",
    "\n",
    "# Calculating number of contacts within a cutoff\n",
    "def contacts_within_cutoff(u, group_a, group_b, radius=4.5):\n",
    "    timeseries = []\n",
    "    for ts in u.trajectory:\n",
    "        # calculate distances between group_a and group_b\n",
    "        dist = contacts.distance_array(group_a.positions, group_b.positions)\n",
    "        # determine which distances <= radius\n",
    "        n_contacts = contacts.contact_matrix(dist, radius).sum()\n",
    "        timeseries.append([ts.frame, n_contacts])\n",
    "    return np.array(timeseries)\n",
    "\n",
    "# The results are returned as a numpy array. The first column is the frame, and the second is the number of contacts present in that frame.\n",
    "ca = contacts_within_cutoff(u, acidic, basic, radius=4.5)\n",
    "ca.shape\n",
    "\n"
   ]
  },
  {
   "cell_type": "code",
   "execution_count": null,
   "metadata": {},
   "outputs": [],
   "source": [
    "# Plotting\n",
    "ca_df.plot(x='Frame')\n",
    "plt.ylabel('# salt bridges');"
   ]
  }
 ],
 "metadata": {
  "language_info": {
   "name": "python"
  },
  "orig_nbformat": 4
 },
 "nbformat": 4,
 "nbformat_minor": 2
}
